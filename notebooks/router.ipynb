{
 "cells": [
  {
   "cell_type": "code",
   "execution_count": 12,
   "id": "895ab386",
   "metadata": {},
   "outputs": [],
   "source": [
    "from pocketflow import Node, Flow\n",
    "from langchain_core.tools import tool\n",
    "from agentic_blocks.utils.tools_utils import print_tool, create_tool_registry, execute_pending_tool_calls\n",
    "from agentic_blocks import call_llm, Messages"
   ]
  },
  {
   "cell_type": "code",
   "execution_count": 47,
   "id": "cb2d74e8",
   "metadata": {},
   "outputs": [],
   "source": [
    "@tool\n",
    "def multiply(x: float, y: float) -> float:\n",
    "    \"\"\"Multiply 'x' and 'y'.\"\"\"\n",
    "    return x * y\n",
    "\n",
    "tools = [multiply]\n",
    "\n",
    "tool_registry = create_tool_registry(tools)\n",
    "\n",
    "#print_tool(multiply)"
   ]
  },
  {
   "cell_type": "code",
   "execution_count": null,
   "id": "4158a7a8",
   "metadata": {},
   "outputs": [],
   "source": [
    "class LLMNode(Node):\n",
    "    def prep(self, shared):\n",
    "        return shared[\"messages\"]\n",
    "\n",
    "    def exec(self, messages) -> str:\n",
    "        model = \"qwen/qwen3-235b-a22b-2507\"\n",
    "        response = call_llm(model=model, messages=messages, tools=tools)\n",
    "        messages.add_response_message(response)\n",
    "        return messages\n",
    "    \n",
    "    def post(self, shared,  prep_res, messages):\n",
    "        if messages.has_pending_tool_calls():\n",
    "            return \"tool_node\"\n",
    "        else:\n",
    "            print(f\"Answer: {messages.get_messages()[-1]['content']}\")\n",
    "            return \"end\"\n",
    "        \n",
    "        \n",
    "class ToolNode(Node):\n",
    "    \n",
    "    def prep(self, shared):\n",
    "        return shared[\"messages\"]\n",
    "\n",
    "    def exec(self, messages) -> str:\n",
    "        print(f\"Tool node: {messages.get_pending_tool_calls()}\")\n",
    "        tool_responses = execute_pending_tool_calls(messages, tool_registry)\n",
    "        messages.add_tool_responses(tool_responses)\n",
    "        return messages\n",
    "    \n",
    "    def post(self, shared,  prep_res, messages):\n",
    "        return \"llm_node\""
   ]
  },
  {
   "cell_type": "code",
   "execution_count": 51,
   "id": "746ca7e0",
   "metadata": {},
   "outputs": [
    {
     "name": "stdout",
     "output_type": "stream",
     "text": [
      "Answer: Hello! How can I assist you today?\n"
     ]
    },
    {
     "name": "stderr",
     "output_type": "stream",
     "text": [
      "/Users/magnusbjelkenhed/think/deep-research/.venv/lib/python3.11/site-packages/pocketflow/__init__.py:44: UserWarning: Flow ends: 'None' not found in ['tool_node']\n",
      "  if not nxt and curr.successors: warnings.warn(f\"Flow ends: '{action}' not found in {list(curr.successors)}\")\n"
     ]
    }
   ],
   "source": [
    "llm_node = LLMNode()\n",
    "tool_node = ToolNode()\n",
    "\n",
    "llm_node - \"tool_node\" >> tool_node\n",
    "tool_node - \"llm_node\" >> llm_node\n",
    "\n",
    "flow = Flow(llm_node)\n",
    "\n",
    "messages = Messages(user_prompt=\"Multiply 3 and 4\")\n",
    "messages = Messages(user_prompt=\"Hello\")\n",
    "\n",
    "shared = {\"messages\": messages}\n",
    "\n",
    "flow.run(shared)\n",
    "\n"
   ]
  },
  {
   "cell_type": "code",
   "execution_count": null,
   "id": "26e326b0",
   "metadata": {},
   "outputs": [],
   "source": []
  }
 ],
 "metadata": {
  "kernelspec": {
   "display_name": ".venv",
   "language": "python",
   "name": "python3"
  },
  "language_info": {
   "codemirror_mode": {
    "name": "ipython",
    "version": 3
   },
   "file_extension": ".py",
   "mimetype": "text/x-python",
   "name": "python",
   "nbconvert_exporter": "python",
   "pygments_lexer": "ipython3",
   "version": "3.11.10"
  }
 },
 "nbformat": 4,
 "nbformat_minor": 5
}
