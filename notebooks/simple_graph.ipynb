{
 "cells": [
  {
   "cell_type": "code",
   "execution_count": 2,
   "id": "b79a1ae8",
   "metadata": {},
   "outputs": [],
   "source": [
    "from pocketflow import Node, Flow\n",
    "import random\n"
   ]
  },
  {
   "cell_type": "code",
   "execution_count": 5,
   "id": "8b3e8c40",
   "metadata": {},
   "outputs": [],
   "source": [
    "class Node1(Node):\n",
    "    \n",
    "    def prep(self, shared):\n",
    "        shared[\"graph_state\"] = shared[\"graph_state\"] + \" I am\"\n",
    "\n",
    "    def exec(self, input: str) -> str:\n",
    "        return input\n",
    "    \n",
    "    def post(self, shared,  prep_res, exec_res):\n",
    "        if random.random() < 0.5:\n",
    "            return \"node_2\"\n",
    "        else:\n",
    "            return \"node_3\"\n",
    "    \n",
    "\n",
    "class Node2(Node):\n",
    "    \n",
    "    def prep(self, shared):\n",
    "        shared[\"graph_state\"] = shared[\"graph_state\"] + \" happy!\"\n",
    "\n",
    "    def exec(self, input: str) -> str:\n",
    "        return input\n",
    "    \n",
    "    def post(self, shared,  prep_res, exec_res):\n",
    "        return \"done\"\n",
    "    \n",
    "    \n",
    "class Node3(Node):\n",
    "    \n",
    "    def prep(self, shared):\n",
    "        shared[\"graph_state\"] = shared[\"graph_state\"] + \" sad!\"\n",
    "\n",
    "    def exec(self, input: str) -> str:\n",
    "        return input\n",
    "    \n",
    "    def post(self, shared,  prep_res, exec_res):\n",
    "        return \"done\"\n"
   ]
  },
  {
   "cell_type": "code",
   "execution_count": 6,
   "id": "ed749006",
   "metadata": {},
   "outputs": [
    {
     "name": "stdout",
     "output_type": "stream",
     "text": [
      " I am sad!\n"
     ]
    }
   ],
   "source": [
    "node1 = Node1()\n",
    "node2 = Node2()\n",
    "node3 = Node3()\n",
    "\n",
    "node1 - \"node_2\" >> node2\n",
    "node1 - \"node_3\" >> node3\n",
    "\n",
    "flow = Flow(node1)\n",
    "\n",
    "shared = {'graph_state': ''}\n",
    "\n",
    "flow.run(shared)\n",
    "\n",
    "print(shared[\"graph_state\"])\n"
   ]
  },
  {
   "cell_type": "code",
   "execution_count": null,
   "id": "b367f131",
   "metadata": {},
   "outputs": [],
   "source": []
  },
  {
   "cell_type": "code",
   "execution_count": null,
   "id": "e8fc26a4",
   "metadata": {},
   "outputs": [],
   "source": []
  }
 ],
 "metadata": {
  "kernelspec": {
   "display_name": ".venv",
   "language": "python",
   "name": "python3"
  },
  "language_info": {
   "codemirror_mode": {
    "name": "ipython",
    "version": 3
   },
   "file_extension": ".py",
   "mimetype": "text/x-python",
   "name": "python",
   "nbconvert_exporter": "python",
   "pygments_lexer": "ipython3",
   "version": "3.11.10"
  }
 },
 "nbformat": 4,
 "nbformat_minor": 5
}
