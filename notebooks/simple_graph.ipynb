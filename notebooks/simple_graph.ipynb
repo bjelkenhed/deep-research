{
 "cells": [
  {
   "cell_type": "code",
   "execution_count": 34,
   "id": "b79a1ae8",
   "metadata": {},
   "outputs": [],
   "source": [
    "from pocketflow import Node, Flow\n",
    "import random\n",
    "from typing import Literal"
   ]
  },
  {
   "cell_type": "code",
   "execution_count": 35,
   "id": "8b3e8c40",
   "metadata": {},
   "outputs": [],
   "source": [
    "class Node1(Node):\n",
    "    \n",
    "    def prep(self, shared):\n",
    "        shared[\"graph_state\"] = shared[\"graph_state\"] + \" I am\"\n",
    "        return shared[\"graph_state\"]\n",
    "\n",
    "    def exec(self, input: str) -> str:\n",
    "        print(f\"Node 1: Graph state set to '{input}'\")\n",
    "        return input\n",
    "    \n",
    "    def post(self, shared,  prep_res, exec_res) -> Literal[\"node_2\", \"node_3\"]:\n",
    "        if random.random() < 0.5:\n",
    "            return \"node_2\"\n",
    "        else:\n",
    "            return \"node_3\"\n",
    "    \n",
    "\n",
    "class Node2(Node):\n",
    "    \n",
    "    def prep(self, shared):\n",
    "        shared[\"graph_state\"] = shared[\"graph_state\"] + \" happy!\"\n",
    "        return shared[\"graph_state\"]\n",
    "\n",
    "    def exec(self, input: str) -> str:\n",
    "        print(f\"Node 2: Graph state set to '{input}'\")\n",
    "        return input\n",
    "    \n",
    "    def post(self, shared,  prep_res, exec_res):\n",
    "        return \"end\"\n",
    "    \n",
    "    \n",
    "class Node3(Node):\n",
    "    \n",
    "    def prep(self, shared):\n",
    "        shared[\"graph_state\"] = shared[\"graph_state\"] + \" sad!\"\n",
    "        return shared[\"graph_state\"]\n",
    "\n",
    "    def exec(self, input: str) -> str:\n",
    "        print(f\"Node 3: Graph state set to '{input}'\")\n",
    "        return input\n",
    "    \n",
    "    def post(self, shared,  prep_res, exec_res):\n",
    "        return \"end\"\n"
   ]
  },
  {
   "cell_type": "code",
   "execution_count": 36,
   "id": "ed749006",
   "metadata": {},
   "outputs": [
    {
     "name": "stdout",
     "output_type": "stream",
     "text": [
      "Node 1: Graph state set to 'Hi this is Wild Duck. I am'\n",
      "Node 2: Graph state set to 'Hi this is Wild Duck. I am happy!'\n",
      "{'graph_state': 'Hi this is Wild Duck. I am happy!'}\n"
     ]
    }
   ],
   "source": [
    "node1 = Node1()\n",
    "node2 = Node2()\n",
    "node3 = Node3()\n",
    "\n",
    "node1 - \"node_2\" >> node2\n",
    "node1 - \"node_3\" >> node3\n",
    "\n",
    "flow = Flow(node1)\n",
    "\n",
    "shared = {'graph_state': 'Hi this is Wild Duck.'}\n",
    "\n",
    "flow.run(shared)\n",
    "\n",
    "print(shared)\n"
   ]
  },
  {
   "cell_type": "code",
   "execution_count": null,
   "id": "6d3bd0dd",
   "metadata": {},
   "outputs": [],
   "source": []
  },
  {
   "cell_type": "code",
   "execution_count": null,
   "id": "43602036",
   "metadata": {},
   "outputs": [],
   "source": []
  }
 ],
 "metadata": {
  "kernelspec": {
   "display_name": ".venv",
   "language": "python",
   "name": "python3"
  },
  "language_info": {
   "codemirror_mode": {
    "name": "ipython",
    "version": 3
   },
   "file_extension": ".py",
   "mimetype": "text/x-python",
   "name": "python",
   "nbconvert_exporter": "python",
   "pygments_lexer": "ipython3",
   "version": "3.11.10"
  }
 },
 "nbformat": 4,
 "nbformat_minor": 5
}
