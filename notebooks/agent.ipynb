{
 "cells": [
  {
   "cell_type": "code",
   "execution_count": 27,
   "id": "a9346c54",
   "metadata": {},
   "outputs": [],
   "source": [
    "from pocketflow import Node, Flow\n",
    "from langchain_core.tools import tool\n",
    "from agentic_blocks.utils.tools_utils import create_tool_registry, execute_pending_tool_calls\n",
    "from agentic_blocks import call_llm, Messages"
   ]
  },
  {
   "cell_type": "code",
   "execution_count": 28,
   "id": "beeea7a1",
   "metadata": {},
   "outputs": [],
   "source": [
    "@tool\n",
    "def add(a: float, b: float) -> float:\n",
    "    \"\"\"Adds a and b.\n",
    "\n",
    "    Args:\n",
    "        a: first int\n",
    "        b: second int\n",
    "    \"\"\"\n",
    "    return a + b\n",
    "\n",
    "@tool\n",
    "def multiply(a: float, b: float) -> float:\n",
    "    \"\"\"Multiplies a and b.\n",
    "\n",
    "    Args:\n",
    "        a: first int\n",
    "        b: second int\n",
    "    \"\"\"\n",
    "    return a * b\n",
    "\n",
    "@tool\n",
    "def divide(a: float, b: float) -> float:\n",
    "    \"\"\"Divide a and b.\n",
    "\n",
    "    Args:\n",
    "        a: first int\n",
    "        b: second int\n",
    "    \"\"\"\n",
    "    return a / b\n",
    "\n",
    "tools = [add, multiply, divide]\n",
    "\n",
    "tool_registry = create_tool_registry(tools)"
   ]
  },
  {
   "cell_type": "code",
   "execution_count": 23,
   "id": "cbc850de",
   "metadata": {},
   "outputs": [],
   "source": [
    "class LLMNode(Node):\n",
    "    def prep(self, shared):\n",
    "        return shared[\"messages\"]\n",
    "\n",
    "    def exec(self, messages) -> str:\n",
    "        model = \"qwen/qwen3-235b-a22b-2507\"\n",
    "        response = call_llm(model=model, messages=messages, tools=tools)\n",
    "        messages.add_response_message(response)\n",
    "        return messages\n",
    "    \n",
    "    def post(self, shared,  prep_res, messages):\n",
    "        if messages.has_pending_tool_calls():\n",
    "            return \"tool_node\"\n",
    "        else:\n",
    "            return \"answer_node\"   \n",
    "        \n",
    "class ToolNode(Node):\n",
    "    \n",
    "    def prep(self, shared):\n",
    "        return shared[\"messages\"]\n",
    "\n",
    "    def exec(self, messages) -> str:\n",
    "        print(f\"Tool node: {messages.get_pending_tool_calls()}\")\n",
    "        tool_responses = execute_pending_tool_calls(messages, tool_registry)\n",
    "        messages.add_tool_responses(tool_responses)\n",
    "        return messages\n",
    "    \n",
    "    def post(self, shared,  prep_res, messages):\n",
    "        return \"llm_node\"\n",
    "    \n",
    "class AnswerNode(Node):\n",
    "    \n",
    "    def prep(self, shared):\n",
    "        messages = shared[\"messages\"]\n",
    "        shared[\"answer\"] = messages.get_messages()[-1]['content']\n",
    "        return messages"
   ]
  },
  {
   "cell_type": "code",
   "execution_count": 24,
   "id": "72bf7711",
   "metadata": {},
   "outputs": [],
   "source": [
    "llm_node = LLMNode()\n",
    "tool_node = ToolNode()\n",
    "answer_node = AnswerNode()\n",
    "\n",
    "llm_node - \"tool_node\" >> tool_node\n",
    "tool_node - \"llm_node\" >> llm_node\n",
    "llm_node - \"answer_node\" >> answer_node\n",
    "\n",
    "\n",
    "flow = Flow(llm_node)"
   ]
  },
  {
   "cell_type": "code",
   "execution_count": 25,
   "id": "8e0018f2",
   "metadata": {},
   "outputs": [],
   "source": [
    "messages = Messages(\n",
    "    system_prompt=\"You are a helpful assistant tasked with writing performing arithmetic on a set of inputs.\",\n",
    "    user_prompt=\"Add 3 and 4. Multiply the output by 2. Divide the output by 5\"\n",
    ")\n",
    "\n",
    "shared = {\"messages\": messages}"
   ]
  },
  {
   "cell_type": "code",
   "execution_count": 26,
   "id": "c62e64ea",
   "metadata": {},
   "outputs": [
    {
     "name": "stdout",
     "output_type": "stream",
     "text": [
      "Tool node: [{'tool_name': 'add', 'arguments': {'a': 3, 'b': 4}, 'tool_call_id': '20f1c6176'}]\n",
      "Tool node: [{'tool_name': 'multiply', 'arguments': {'a': 7, 'b': 2}, 'tool_call_id': '38d31c457'}]\n",
      "Tool node: [{'tool_name': 'divide', 'arguments': {'a': 14, 'b': 5}, 'tool_call_id': '38ba4b155'}]\n",
      "The final result is 2.8.\n"
     ]
    }
   ],
   "source": [
    "flow.run(shared)\n",
    "\n",
    "print(shared[\"answer\"])"
   ]
  },
  {
   "cell_type": "code",
   "execution_count": 49,
   "id": "997a68f9",
   "metadata": {},
   "outputs": [],
   "source": [
    "messages.add_user_message(\"add 3 to that\")\n"
   ]
  },
  {
   "cell_type": "code",
   "execution_count": 50,
   "id": "547fb159",
   "metadata": {},
   "outputs": [
    {
     "name": "stdout",
     "output_type": "stream",
     "text": [
      "Tool node: [{'tool_name': 'add', 'arguments': {'a': 2.8, 'b': 3}, 'tool_call_id': 'call_93aa4159bf1d44168a64de'}]\n",
      "Answer: The final result is 5.8.\n"
     ]
    }
   ],
   "source": [
    "flow.run(shared)"
   ]
  },
  {
   "cell_type": "code",
   "execution_count": null,
   "id": "a55e8b6a",
   "metadata": {},
   "outputs": [],
   "source": []
  }
 ],
 "metadata": {
  "kernelspec": {
   "display_name": ".venv",
   "language": "python",
   "name": "python3"
  },
  "language_info": {
   "codemirror_mode": {
    "name": "ipython",
    "version": 3
   },
   "file_extension": ".py",
   "mimetype": "text/x-python",
   "name": "python",
   "nbconvert_exporter": "python",
   "pygments_lexer": "ipython3",
   "version": "3.11.10"
  }
 },
 "nbformat": 4,
 "nbformat_minor": 5
}
